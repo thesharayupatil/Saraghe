{
 "cells": [
  {
   "cell_type": "markdown",
   "id": "255fc03c",
   "metadata": {},
   "source": [
    "# Convolutional neural network (CNN)\n",
    "Use MNIST Fashion Dataset and create a classifier to classify fashion clothing into categories."
   ]
  },
  {
   "cell_type": "code",
   "execution_count": 1,
   "id": "813ec50b",
   "metadata": {},
   "outputs": [],
   "source": [
    "import tensorflow as tf\n",
    "from tensorflow import keras\n",
    "import numpy as np"
   ]
  },
  {
   "cell_type": "code",
   "execution_count": 2,
   "id": "af509444",
   "metadata": {},
   "outputs": [],
   "source": [
    "# Load the MNIST Fashion Dataset\n",
    "(train_images, train_labels), (test_images, test_labels) = keras.datasets.fashion_mnist.load_data()"
   ]
  },
  {
   "cell_type": "code",
   "execution_count": 3,
   "id": "c68263ec",
   "metadata": {},
   "outputs": [],
   "source": [
    "# Normalize the pixel values between 0 and 1\n",
    "train_images = train_images / 255.0\n",
    "test_images = test_images / 255.0\n",
    "\n",
    "# Reshape the images to include a single grayscale channel\n",
    "train_images = np.expand_dims(train_images, axis=-1)\n",
    "test_images = np.expand_dims(test_images, axis=-1)\n",
    "\n",
    "# Convert labels to categorical one-hot encoding\n",
    "train_labels = keras.utils.to_categorical(train_labels, num_classes=10)\n",
    "test_labels = keras.utils.to_categorical(test_labels, num_classes=10)\n"
   ]
  },
  {
   "cell_type": "code",
   "execution_count": 4,
   "id": "e5a1ab83",
   "metadata": {},
   "outputs": [],
   "source": [
    "model = keras.Sequential([\n",
    "    keras.layers.Conv2D(32, (3, 3), padding='same', activation='relu', input_shape=(28, 28, 1)),\n",
    "    keras.layers.MaxPooling2D((2, 2)),\n",
    "    keras.layers.Conv2D(64, (3, 3), padding='same', activation='relu'),\n",
    "    keras.layers.MaxPooling2D((2, 2)),\n",
    "    keras.layers.Flatten(),\n",
    "    keras.layers.Dense(128, activation='relu'),\n",
    "    keras.layers.Dense(10, activation='softmax')\n",
    "])\n"
   ]
  },
  {
   "cell_type": "code",
   "execution_count": null,
   "id": "e7cf9e45",
   "metadata": {},
   "outputs": [
    {
     "name": "stdout",
     "output_type": "stream",
     "text": [
      "Epoch 1/10\n",
      "469/469 [==============================] - 147s 271ms/step - loss: 0.4942 - accuracy: 0.8228 - val_loss: 0.3640 - val_accuracy: 0.8707\n",
      "Epoch 2/10\n",
      "469/469 [==============================] - 132s 281ms/step - loss: 0.3129 - accuracy: 0.8872 - val_loss: 0.3058 - val_accuracy: 0.8891\n",
      "Epoch 3/10\n",
      "469/469 [==============================] - 123s 263ms/step - loss: 0.2654 - accuracy: 0.9043 - val_loss: 0.2905 - val_accuracy: 0.8955\n",
      "Epoch 4/10\n",
      "469/469 [==============================] - 91s 194ms/step - loss: 0.2343 - accuracy: 0.9149 - val_loss: 0.2751 - val_accuracy: 0.9007\n",
      "Epoch 5/10\n",
      "469/469 [==============================] - 83s 178ms/step - loss: 0.2120 - accuracy: 0.9226 - val_loss: 0.2442 - val_accuracy: 0.9112\n",
      "Epoch 6/10\n",
      "469/469 [==============================] - 75s 161ms/step - loss: 0.1940 - accuracy: 0.9285 - val_loss: 0.2505 - val_accuracy: 0.9088\n",
      "Epoch 7/10\n",
      "469/469 [==============================] - 76s 162ms/step - loss: 0.1745 - accuracy: 0.9359 - val_loss: 0.2383 - val_accuracy: 0.9129\n",
      "Epoch 8/10\n",
      "469/469 [==============================] - 83s 177ms/step - loss: 0.1608 - accuracy: 0.9408 - val_loss: 0.2313 - val_accuracy: 0.9190\n",
      "Epoch 9/10\n",
      "469/469 [==============================] - 84s 178ms/step - loss: 0.1436 - accuracy: 0.9477 - val_loss: 0.2325 - val_accuracy: 0.9209\n",
      "Epoch 10/10\n",
      "438/469 [===========================>..] - ETA: 5s - loss: 0.1276 - accuracy: 0.9542"
     ]
    }
   ],
   "source": [
    "model.compile(optimizer='adam', loss='categorical_crossentropy', metrics=['accuracy'])\n",
    "model.fit(train_images, train_labels, epochs=10, batch_size=128, validation_data=(test_images, test_labels))"
   ]
  },
  {
   "cell_type": "code",
   "execution_count": null,
   "id": "2df4a035",
   "metadata": {},
   "outputs": [],
   "source": [
    "test_loss, test_acc = model.evaluate(test_images, test_labels)\n",
    "print('Test accuracy:', test_acc)"
   ]
  },
  {
   "cell_type": "code",
   "execution_count": null,
   "id": "21eb7f00",
   "metadata": {},
   "outputs": [],
   "source": []
  }
 ],
 "metadata": {
  "kernelspec": {
   "display_name": "Python 3 (ipykernel)",
   "language": "python",
   "name": "python3"
  },
  "language_info": {
   "codemirror_mode": {
    "name": "ipython",
    "version": 3
   },
   "file_extension": ".py",
   "mimetype": "text/x-python",
   "name": "python",
   "nbconvert_exporter": "python",
   "pygments_lexer": "ipython3",
   "version": "3.10.9"
  }
 },
 "nbformat": 4,
 "nbformat_minor": 5
}
