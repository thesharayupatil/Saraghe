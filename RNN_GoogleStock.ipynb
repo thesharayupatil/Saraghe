{
 "cells": [
  {
   "cell_type": "markdown",
   "id": "a524c84f",
   "metadata": {},
   "source": [
    "# Recurrent neural network (RNN)\n",
    "Use the Google stock prices dataset and design a time series analysis and prediction system using RNN."
   ]
  },
  {
   "cell_type": "code",
   "execution_count": 3,
   "id": "1f5d1c15",
   "metadata": {},
   "outputs": [],
   "source": [
    "import numpy as np\n",
    "import pandas as pd\n",
    "from sklearn.preprocessing import MinMaxScaler\n",
    "from tensorflow.keras.models import Sequential\n",
    "from tensorflow.keras.layers import LSTM, Dense\n",
    "import matplotlib.pyplot as plt"
   ]
  },
  {
   "cell_type": "code",
   "execution_count": 4,
   "id": "2c330836",
   "metadata": {},
   "outputs": [],
   "source": [
    "# Step 1: Data Preparation\n",
    "# Load the dataset (assuming the data is in a CSV file named \"google_stock_prices.csv\")\n",
    "data = pd.read_csv(\"Google_Stock_Price_Test.csv\")"
   ]
  },
  {
   "cell_type": "code",
   "execution_count": 5,
   "id": "eb50913a",
   "metadata": {},
   "outputs": [],
   "source": [
    "# Extract the \"Close\" prices as the target variable\n",
    "prices = data[\"Close\"].values.reshape(-1, 1)"
   ]
  },
  {
   "cell_type": "code",
   "execution_count": 6,
   "id": "18746451",
   "metadata": {},
   "outputs": [],
   "source": [
    "# Normalize the prices using Min-Max scaling\n",
    "scaler = MinMaxScaler(feature_range=(0, 1))\n",
    "normalized_prices = scaler.fit_transform(prices)"
   ]
  },
  {
   "cell_type": "code",
   "execution_count": 7,
   "id": "fff46bf1",
   "metadata": {},
   "outputs": [],
   "source": [
    "# Split the data into training and testing sets (80% training, 20% testing)\n",
    "train_size = int(len(normalized_prices) * 0.8)\n",
    "train_data = normalized_prices[:train_size]\n",
    "test_data = normalized_prices[train_size:]"
   ]
  },
  {
   "cell_type": "code",
   "execution_count": null,
   "id": "7acf661f",
   "metadata": {},
   "outputs": [],
   "source": [
    "# Step 4: RNN Model Design\n",
    "model = Sequential()\n",
    "model.add(LSTM(64, input_shape=(None, 1)))\n",
    "model.add(Dense(1))\n",
    "model.compile(optimizer=\"adam\", loss=\"mean_squared_error\")"
   ]
  },
  {
   "cell_type": "code",
   "execution_count": null,
   "id": "ceeadbf2",
   "metadata": {},
   "outputs": [],
   "source": [
    "# Step 5: Model Training\n",
    "X_train = train_data[:-1]  # Input sequence\n",
    "y_train = train_data[1:]   # Target sequence (shifted by 1)\n",
    "\n",
    "X_train = X_train.reshape(X_train.shape[0], X_train.shape[1], 1)\n",
    "\n",
    "model.fit(X_train, y_train, epochs=50, batch_size=32)"
   ]
  },
  {
   "cell_type": "code",
   "execution_count": null,
   "id": "6d7a08c9",
   "metadata": {},
   "outputs": [],
   "source": [
    "# Step 7: Prediction and Visualization\n",
    "X_test = test_data[:-1]\n",
    "y_test = test_data[1:]\n",
    "X_test = X_test.reshape(X_test.shape[0], X_test.shape[1], 1)\n",
    "\n",
    "predicted_prices = model.predict(X_test)\n",
    "predicted_prices = scaler.inverse_transform(predicted_prices)"
   ]
  },
  {
   "cell_type": "code",
   "execution_count": null,
   "id": "8085dc9d",
   "metadata": {},
   "outputs": [],
   "source": [
    "# Visualize the results\n",
    "plt.plot(prices[train_size+1:], label=\"Actual Prices\")\n",
    "plt.plot(predicted_prices, label=\"Predicted Prices\")\n",
    "plt.xlabel(\"Time\")\n",
    "plt.ylabel(\"Stock Price\")\n",
    "plt.title(\"Google Stock Price Prediction\")\n",
    "plt.legend()\n",
    "plt.show()"
   ]
  },
  {
   "cell_type": "code",
   "execution_count": null,
   "id": "7c09ed67",
   "metadata": {},
   "outputs": [],
   "source": []
  }
 ],
 "metadata": {
  "kernelspec": {
   "display_name": "Python 3 (ipykernel)",
   "language": "python",
   "name": "python3"
  },
  "language_info": {
   "codemirror_mode": {
    "name": "ipython",
    "version": 3
   },
   "file_extension": ".py",
   "mimetype": "text/x-python",
   "name": "python",
   "nbconvert_exporter": "python",
   "pygments_lexer": "ipython3",
   "version": "3.10.9"
  }
 },
 "nbformat": 4,
 "nbformat_minor": 5
}
