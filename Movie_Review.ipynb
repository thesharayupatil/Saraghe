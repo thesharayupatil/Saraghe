{
 "cells": [
  {
   "cell_type": "markdown",
   "id": "69bc8b41",
   "metadata": {},
   "source": [
    "# Classification using Deep neural network\n",
    "Binary classification using Deep Neural Networks Example: Classify movie reviews into positive\" reviews and\n",
    "\"negative\" reviews, just based on the text content of the reviews. Use IMDB dataset"
   ]
  },
  {
   "cell_type": "code",
   "execution_count": 1,
   "id": "955a31b8",
   "metadata": {},
   "outputs": [],
   "source": [
    "import numpy as np\n",
    "from tensorflow.keras.datasets import imdb\n",
    "from tensorflow.keras.preprocessing import sequence\n",
    "from tensorflow.keras.models import Sequential\n",
    "from tensorflow.keras.layers import Dense, Embedding, LSTM"
   ]
  },
  {
   "cell_type": "code",
   "execution_count": 2,
   "id": "d87474cc",
   "metadata": {},
   "outputs": [],
   "source": [
    "# Set the number of most frequent words to use\n",
    "max_words = 10000\n",
    "\n",
    "# Load the IMDB movie review dataset\n",
    "(X_train, y_train), (X_test, y_test) = imdb.load_data(num_words=max_words)\n",
    "\n",
    "# Limit the review length to a fixed number of words\n",
    "max_length = 500\n",
    "X_train = sequence.pad_sequences(X_train, maxlen=max_length)\n",
    "X_test = sequence.pad_sequences(X_test, maxlen=max_length)"
   ]
  },
  {
   "cell_type": "code",
   "execution_count": 3,
   "id": "9485e20d",
   "metadata": {},
   "outputs": [],
   "source": [
    "# Define the model architecture\n",
    "model = Sequential()\n",
    "model.add(Embedding(max_words, 32, input_length=max_length))\n",
    "model.add(LSTM(100))\n",
    "model.add(Dense(1, activation='sigmoid'))\n",
    "\n",
    "# Compile the model\n",
    "model.compile(loss='binary_crossentropy', optimizer='adam', metrics=['accuracy'])"
   ]
  },
  {
   "cell_type": "code",
   "execution_count": null,
   "id": "f5dccf9c",
   "metadata": {},
   "outputs": [
    {
     "name": "stdout",
     "output_type": "stream",
     "text": [
      "Epoch 1/3\n",
      "391/391 [==============================] - 954s 2s/step - loss: 0.4753 - accuracy: 0.7708 - val_loss: 0.3472 - val_accuracy: 0.8518\n",
      "Epoch 2/3\n",
      "391/391 [==============================] - 465s 1s/step - loss: 0.2686 - accuracy: 0.8945 - val_loss: 0.3226 - val_accuracy: 0.8628\n",
      "Epoch 3/3\n",
      "189/391 [=============>................] - ETA: 2:59 - loss: 0.1974 - accuracy: 0.9269"
     ]
    }
   ],
   "source": [
    "# Set the number of epochs and batch size\n",
    "epochs = 3\n",
    "batch_size = 64\n",
    "\n",
    "# Train the model\n",
    "model.fit(X_train, y_train, validation_data=(X_test, y_test), epochs=epochs, batch_size=batch_size)"
   ]
  },
  {
   "cell_type": "code",
   "execution_count": null,
   "id": "64895d4c",
   "metadata": {},
   "outputs": [],
   "source": [
    "# Evaluate the model on the test set\n",
    "loss, accuracy = model.evaluate(X_test, y_test, verbose=0)\n",
    "print(f'Test Loss: {loss:.4f}')\n",
    "print(f'Test Accuracy: {accuracy*100:.2f}%')"
   ]
  },
  {
   "cell_type": "code",
   "execution_count": null,
   "id": "ce56401a",
   "metadata": {},
   "outputs": [],
   "source": []
  }
 ],
 "metadata": {
  "kernelspec": {
   "display_name": "Python 3 (ipykernel)",
   "language": "python",
   "name": "python3"
  },
  "language_info": {
   "codemirror_mode": {
    "name": "ipython",
    "version": 3
   },
   "file_extension": ".py",
   "mimetype": "text/x-python",
   "name": "python",
   "nbconvert_exporter": "python",
   "pygments_lexer": "ipython3",
   "version": "3.10.9"
  }
 },
 "nbformat": 4,
 "nbformat_minor": 5
}
